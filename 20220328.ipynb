{
  "nbformat": 4,
  "nbformat_minor": 0,
  "metadata": {
    "colab": {
      "name": "20220328.ipynb",
      "provenance": [],
      "authorship_tag": "ABX9TyOfnKW90adWhNZ0oyMjGKme",
      "include_colab_link": true
    },
    "kernelspec": {
      "name": "python3",
      "display_name": "Python 3"
    },
    "language_info": {
      "name": "python"
    }
  },
  "cells": [
    {
      "cell_type": "markdown",
      "metadata": {
        "id": "view-in-github",
        "colab_type": "text"
      },
      "source": [
        "<a href=\"https://colab.research.google.com/github/HawonCP3/Class2022Spring/blob/main/20220328.ipynb\" target=\"_parent\"><img src=\"https://colab.research.google.com/assets/colab-badge.svg\" alt=\"Open In Colab\"/></a>"
      ]
    },
    {
      "cell_type": "markdown",
      "source": [
        "제주수문지질정통합정보시스템 연도별 풍속정보 조회\n",
        "\n",
        "\n"
      ],
      "metadata": {
        "id": "IANjoJgbVnYB"
      }
    },
    {
      "cell_type": "code",
      "execution_count": null,
      "metadata": {
        "id": "X0BTZTWyAF3B"
      },
      "outputs": [],
      "source": [
        "!pip install gradio\n",
        "import pandas as pd\n",
        "import gradio as gr\n",
        "import requests"
      ]
    },
    {
      "cell_type": "code",
      "source": [
        "def check(searchDataDate):\n",
        "  URL = ('http://apis.data.go.kr/B551939/jejuwaterdata1/ws1?'\n",
        "       'serviceKey=GCeZE2eG8AkQikw0KVHOJunPq0IH7qGVJzy0anwFWZ7AilD%2BjLtlrbL3hu4fegmhMqMtKGFvG%2BIrAvL6n6nJ4A%3D%3D'\n",
        "       '&searchDataDate='+searchDataDate+\n",
        "       '&returnType=json'\n",
        "       '&pageNo=1'\n",
        "       '&pageSize=25')\n",
        "  \n",
        "  response = requests.get(URL)\n",
        "  r = response.json()\n",
        "  items = r['response']['body']['items']['item']\n",
        "  \n",
        "  observatory = [item['observatory'] for item in items]\n",
        "  dataDate = [item['dataDate'] for item in items]\n",
        "  dataType = [item['dataType'] for item in items]\n",
        "  elevation = [item['elevation'] for item in items]\n",
        "  val = [item['val'] for item in items]\n",
        "\n",
        "  observatory = pd.Series(observatory)\n",
        "  dataDate = pd.Series(dataDate)\n",
        "  dataType = pd.Series(dataType)\n",
        "  elevation = pd.Series(elevation)\n",
        "  val = pd.Series(val)\n",
        "  df = pd.DataFrame({'observatory': observatory, 'dataDate':dataDate, 'elevation':elevation, 'dataType':dataType, 'val':val})\n",
        "\n",
        "  return df"
      ],
      "metadata": {
        "id": "lTFGFDH9F58P"
      },
      "execution_count": 49,
      "outputs": []
    },
    {
      "cell_type": "code",
      "source": [
        "iface = gr.Interface(check, gr.inputs.Dropdown(['2008', '2009', '2010', '2011', '2012', '2013', '2014', '2015', '2016', '2017', '2018']), outputs=['dataframe'])\n",
        "iface.launch(debug=True)"
      ],
      "metadata": {
        "id": "KAKy19nlGO8A"
      },
      "execution_count": null,
      "outputs": []
    }
  ]
}