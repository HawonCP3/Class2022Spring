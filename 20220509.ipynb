{
  "nbformat": 4,
  "nbformat_minor": 0,
  "metadata": {
    "colab": {
      "name": "Untitled3.ipynb",
      "provenance": [],
      "authorship_tag": "ABX9TyM7dZjdkZz1C7FC8NkjThA1",
      "include_colab_link": true
    },
    "kernelspec": {
      "name": "python3",
      "display_name": "Python 3"
    },
    "language_info": {
      "name": "python"
    }
  },
  "cells": [
    {
      "cell_type": "markdown",
      "metadata": {
        "id": "view-in-github",
        "colab_type": "text"
      },
      "source": [
        "<a href=\"https://colab.research.google.com/github/HawonCP3/Class2022Spring/blob/main/20220509.ipynb\" target=\"_parent\"><img src=\"https://colab.research.google.com/assets/colab-badge.svg\" alt=\"Open In Colab\"/></a>"
      ]
    },
    {
      "cell_type": "code",
      "execution_count": null,
      "metadata": {
        "id": "2kbqP-HILbhp"
      },
      "outputs": [],
      "source": [
        "import os\n",
        "url = \"https://raw.githubusercontent.com/hsnam95/my/main/friends_season01_script.txt\"\n",
        "os.system(\"curl \" + url + \" > friends_season01_script.txt\")\n",
        "\n",
        "file = open (\"friends_season01_script.txt\")\n",
        "text = file.read()\n",
        "file.close()\n",
        "text"
      ]
    },
    {
      "cell_type": "code",
      "source": [
        "import re\n",
        "text_20220509 = re.sub('Rachel', \"2020130822\", text)\n",
        "\n",
        "find = re.findall('Rachel', text)\n",
        "find_20220509 = re.findall('2020130822', text_20220509)"
      ],
      "metadata": {
        "id": "LUdmcdcQLmJD"
      },
      "execution_count": 2,
      "outputs": []
    },
    {
      "cell_type": "code",
      "source": [
        "file = open(\"20220509.txt\", \"w\")\n",
        "file.write(text_20220509)\n",
        "file.close()"
      ],
      "metadata": {
        "id": "ZqTRGOMKLrKW"
      },
      "execution_count": 3,
      "outputs": []
    }
  ]
}