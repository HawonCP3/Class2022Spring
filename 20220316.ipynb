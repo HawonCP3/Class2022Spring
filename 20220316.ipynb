{
  "nbformat": 4,
  "nbformat_minor": 0,
  "metadata": {
    "colab": {
      "name": "20220316.ipynb",
      "provenance": [],
      "collapsed_sections": [],
      "authorship_tag": "ABX9TyOuTE4FIpv56hWhRuVOpe+1",
      "include_colab_link": true
    },
    "kernelspec": {
      "name": "python3",
      "display_name": "Python 3"
    },
    "language_info": {
      "name": "python"
    }
  },
  "cells": [
    {
      "cell_type": "markdown",
      "metadata": {
        "id": "view-in-github",
        "colab_type": "text"
      },
      "source": [
        "<a href=\"https://colab.research.google.com/github/HawonCP3/Class2022Spring/blob/main/20220316.ipynb\" target=\"_parent\"><img src=\"https://colab.research.google.com/assets/colab-badge.svg\" alt=\"Open In Colab\"/></a>"
      ]
    },
    {
      "cell_type": "markdown",
      "source": [
        "변수(variables)\n",
        "1. 숫자(numbers): int(정수), float(실수)\n",
        "2. 문자(str): '  ' 또는 \"  \"으로 기입\n",
        "3. 리스트(list): 숫자 또는 문자 여러 개를 담은 리스트, ['a','b','c', ... , 23]\n",
        "4. 딕셔너리(dict): 일종의 사전 형식(순서 x), 데이터베이스 정리에 용이함. {\"a\"=\"app\"}: \"a\"는 access할 수 있는 키, \"app\"은 내용"
      ],
      "metadata": {
        "id": "kd5tt0u0VP6n"
      }
    },
    {
      "cell_type": "code",
      "source": [
        "a=1; print(type(a))"
      ],
      "metadata": {
        "colab": {
          "base_uri": "https://localhost:8080/"
        },
        "id": "e-ykW-guVMhY",
        "outputId": "3c753a85-46f2-492e-dc29-514efd2e353e"
      },
      "execution_count": 43,
      "outputs": [
        {
          "output_type": "stream",
          "name": "stdout",
          "text": [
            "<class 'int'>\n"
          ]
        }
      ]
    },
    {
      "cell_type": "code",
      "source": [
        "print(type(a))"
      ],
      "metadata": {
        "colab": {
          "base_uri": "https://localhost:8080/"
        },
        "id": "hE4HCjqUV2kb",
        "outputId": "b5d266a8-e2fa-4801-dfca-5d9bf67b6a15"
      },
      "execution_count": 44,
      "outputs": [
        {
          "output_type": "stream",
          "name": "stdout",
          "text": [
            "<class 'int'>\n"
          ]
        }
      ]
    },
    {
      "cell_type": "markdown",
      "source": [
        "print(type(a)) : 변수 a의 type 출력\n",
        "\n"
      ],
      "metadata": {
        "id": "ENdttGnAWWS4"
      }
    },
    {
      "cell_type": "code",
      "source": [
        "b=1.6 ; print(type(b))"
      ],
      "metadata": {
        "colab": {
          "base_uri": "https://localhost:8080/"
        },
        "id": "qL8-QLy2WcL0",
        "outputId": "fb487560-ee38-44d6-cd38-d360b48eb703"
      },
      "execution_count": 45,
      "outputs": [
        {
          "output_type": "stream",
          "name": "stdout",
          "text": [
            "<class 'float'>\n"
          ]
        }
      ]
    },
    {
      "cell_type": "code",
      "source": [
        "c='123456'; print(type(c)); print(c[4])"
      ],
      "metadata": {
        "colab": {
          "base_uri": "https://localhost:8080/"
        },
        "id": "zadcax_tWPcE",
        "outputId": "20e9a01c-6753-4b32-9b9a-4c2a566bf8b4"
      },
      "execution_count": 51,
      "outputs": [
        {
          "output_type": "stream",
          "name": "stdout",
          "text": [
            "<class 'str'>\n",
            "5\n"
          ]
        }
      ]
    },
    {
      "cell_type": "markdown",
      "source": [
        "`a='123 ... s ... n'`일 때\n",
        "\n",
        "`print(a[s]): indexing`\n",
        "\n",
        "처음(0)에서 끝(n-1)자리 중 s번째 자리의 값을 출력함"
      ],
      "metadata": {
        "id": "keK1xDc7XerS"
      }
    },
    {
      "cell_type": "code",
      "source": [
        "a=[1,2,3,4]; print(type(a)); print(a[3])"
      ],
      "metadata": {
        "colab": {
          "base_uri": "https://localhost:8080/"
        },
        "id": "B6iJgqKeXPPo",
        "outputId": "6b4d5f71-1057-471e-e1fc-8303f18305e8"
      },
      "execution_count": 47,
      "outputs": [
        {
          "output_type": "stream",
          "name": "stdout",
          "text": [
            "<class 'list'>\n",
            "4\n"
          ]
        }
      ]
    },
    {
      "cell_type": "code",
      "source": [
        "d=[1,'a','b',6];print(type(d));print(d[1])"
      ],
      "metadata": {
        "colab": {
          "base_uri": "https://localhost:8080/"
        },
        "id": "WXniJyqTX6yC",
        "outputId": "81f923e3-078b-4c13-8e03-d38c1ad73962"
      },
      "execution_count": 48,
      "outputs": [
        {
          "output_type": "stream",
          "name": "stdout",
          "text": [
            "<class 'list'>\n",
            "a\n"
          ]
        }
      ]
    },
    {
      "cell_type": "code",
      "source": [
        "d[1:3]"
      ],
      "metadata": {
        "colab": {
          "base_uri": "https://localhost:8080/"
        },
        "id": "uZ2YQxlnYcKG",
        "outputId": "19b05b2b-1b73-4380-aaba-be327db00e54"
      },
      "execution_count": 49,
      "outputs": [
        {
          "output_type": "execute_result",
          "data": {
            "text/plain": [
              "['a', 'b']"
            ]
          },
          "metadata": {},
          "execution_count": 49
        }
      ]
    },
    {
      "cell_type": "code",
      "source": [
        "d[:-1]"
      ],
      "metadata": {
        "colab": {
          "base_uri": "https://localhost:8080/"
        },
        "id": "_P1b6Va7ZppV",
        "outputId": "7929872f-4cbc-44a8-cb57-0f68f04037f6"
      },
      "execution_count": 50,
      "outputs": [
        {
          "output_type": "execute_result",
          "data": {
            "text/plain": [
              "[1, 'a', 'b']"
            ]
          },
          "metadata": {},
          "execution_count": 50
        }
      ]
    },
    {
      "cell_type": "markdown",
      "source": [
        "`d=[1,2,3, ... ,n]`일 때\n",
        "\n",
        "`d[1:3]`\n",
        "\n",
        "두 번째(1) 자리에서 세 번째(3-1) 자리까지의 값을 리스트로 출력\n",
        "\n",
        "`d[:]`\n",
        "\n",
        "처음(0)서 끝 자리(n)까지의 값을 리스트로 출력\n",
        "\n",
        "`d[:-1]`\n",
        "\n",
        "처음(0)에서 끝 전 자리(n-1)까지의 값을 리스트로 출력\n",
        "\n",
        "`[:]`의 기본값: 처음(0) - 끝(n)\n"
      ],
      "metadata": {
        "id": "pKB50zEnZNs_"
      }
    },
    {
      "cell_type": "code",
      "source": [
        "a[1:-1]"
      ],
      "metadata": {
        "colab": {
          "base_uri": "https://localhost:8080/"
        },
        "id": "YMQnXHjcZMiD",
        "outputId": "02fc918a-c106-4fc0-898d-89985927229a"
      },
      "execution_count": 55,
      "outputs": [
        {
          "output_type": "execute_result",
          "data": {
            "text/plain": [
              "[2, 3]"
            ]
          },
          "metadata": {},
          "execution_count": 55
        }
      ]
    },
    {
      "cell_type": "code",
      "source": [
        "a[1]=0"
      ],
      "metadata": {
        "id": "JLcFGmTbbRl1"
      },
      "execution_count": 56,
      "outputs": []
    },
    {
      "cell_type": "code",
      "source": [
        "print(a)"
      ],
      "metadata": {
        "colab": {
          "base_uri": "https://localhost:8080/"
        },
        "id": "BD5Sj9z8cM4U",
        "outputId": "e74091f9-e9d5-488c-f79a-715cd3fd67e0"
      },
      "execution_count": 58,
      "outputs": [
        {
          "output_type": "stream",
          "name": "stdout",
          "text": [
            "[1, 0, 3, 4]\n"
          ]
        }
      ]
    },
    {
      "cell_type": "code",
      "source": [
        "a=(1,2,3)"
      ],
      "metadata": {
        "id": "G45MsEjScPmA"
      },
      "execution_count": 59,
      "outputs": []
    },
    {
      "cell_type": "code",
      "source": [
        "a[1]=0"
      ],
      "metadata": {
        "colab": {
          "base_uri": "https://localhost:8080/",
          "height": 174
        },
        "id": "UqD9ne82dBDJ",
        "outputId": "fa0b6b90-c593-4b0e-dd50-8ab41c53350b"
      },
      "execution_count": 61,
      "outputs": [
        {
          "output_type": "error",
          "ename": "TypeError",
          "evalue": "ignored",
          "traceback": [
            "\u001b[0;31m---------------------------------------------------------------------------\u001b[0m",
            "\u001b[0;31mTypeError\u001b[0m                                 Traceback (most recent call last)",
            "\u001b[0;32m<ipython-input-61-2226a346ff5c>\u001b[0m in \u001b[0;36m<module>\u001b[0;34m()\u001b[0m\n\u001b[0;32m----> 1\u001b[0;31m \u001b[0ma\u001b[0m\u001b[0;34m[\u001b[0m\u001b[0;36m1\u001b[0m\u001b[0;34m]\u001b[0m\u001b[0;34m=\u001b[0m\u001b[0;36m0\u001b[0m\u001b[0;34m\u001b[0m\u001b[0;34m\u001b[0m\u001b[0m\n\u001b[0m",
            "\u001b[0;31mTypeError\u001b[0m: 'tuple' object does not support item assignment"
          ]
        }
      ]
    },
    {
      "cell_type": "code",
      "source": [
        "print(a[0]+a[2])"
      ],
      "metadata": {
        "colab": {
          "base_uri": "https://localhost:8080/"
        },
        "id": "jHdLSBVYdC9y",
        "outputId": "1d5a9212-2fdd-4875-d57a-3f912fd14c50"
      },
      "execution_count": 62,
      "outputs": [
        {
          "output_type": "stream",
          "name": "stdout",
          "text": [
            "4\n"
          ]
        }
      ]
    },
    {
      "cell_type": "markdown",
      "source": [
        "list와 비슷한 tuple: `a=(1.2.3)`\n",
        "\n",
        "차이점: tuple은 내부의 변수를 바꿀 수 없음, 내부의 변수를 더한 값을 출력할 수는 있음"
      ],
      "metadata": {
        "id": "a5JgQ5-edFPe"
      }
    },
    {
      "cell_type": "code",
      "source": [
        "a =\t{\"a\": \"banana\", \"b\": \"mandarine\", \"c\": 2022}\n",
        "print(type(a))\n",
        "print(a[\"a\"])"
      ],
      "metadata": {
        "colab": {
          "base_uri": "https://localhost:8080/"
        },
        "id": "E1pER1lGdnG1",
        "outputId": "392f53bf-9dc2-46c1-b040-c143f7c8845c"
      },
      "execution_count": 65,
      "outputs": [
        {
          "output_type": "stream",
          "name": "stdout",
          "text": [
            "<class 'dict'>\n",
            "banana\n"
          ]
        }
      ]
    },
    {
      "cell_type": "code",
      "source": [
        ""
      ],
      "metadata": {
        "id": "TJTB40Lpd0Q1"
      },
      "execution_count": null,
      "outputs": []
    }
  ]
}