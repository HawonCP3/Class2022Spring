{
  "nbformat": 4,
  "nbformat_minor": 0,
  "metadata": {
    "colab": {
      "name": "20220316.ipynb",
      "provenance": [],
      "collapsed_sections": [],
      "authorship_tag": "ABX9TyMlb/nJpPQFi3ojTVJrAiMg",
      "include_colab_link": true
    },
    "kernelspec": {
      "name": "python3",
      "display_name": "Python 3"
    },
    "language_info": {
      "name": "python"
    }
  },
  "cells": [
    {
      "cell_type": "markdown",
      "metadata": {
        "id": "view-in-github",
        "colab_type": "text"
      },
      "source": [
        "<a href=\"https://colab.research.google.com/github/HawonCP3/Class2022Spring/blob/main/20220316.ipynb\" target=\"_parent\"><img src=\"https://colab.research.google.com/assets/colab-badge.svg\" alt=\"Open In Colab\"/></a>"
      ]
    },
    {
      "cell_type": "markdown",
      "source": [
        "#변수(variables)\n",
        "1. 숫자(numbers): int(정수), float(실수)\n",
        "2. 문자(str): '  ' 또는 \"  \"으로 기입\n",
        "3. 리스트(list): 숫자 또는 문자 여러 개를 담은 리스트, ['a','b','c', ... , 23]\n",
        "4. 딕셔너리(dict): 일종의 사전 형식(순서 x), 데이터베이스 정리에 용이함. {\"a\"=\"app\"}: \"a\"는 access할 수 있는 키, \"app\"은 내용"
      ],
      "metadata": {
        "id": "kd5tt0u0VP6n"
      }
    },
    {
      "cell_type": "code",
      "source": [
        "a=1; print(type(a))"
      ],
      "metadata": {
        "colab": {
          "base_uri": "https://localhost:8080/"
        },
        "id": "e-ykW-guVMhY",
        "outputId": "e007669e-7057-4f84-ffc1-5ccf19035aee"
      },
      "execution_count": 1,
      "outputs": [
        {
          "output_type": "stream",
          "name": "stdout",
          "text": [
            "<class 'int'>\n"
          ]
        }
      ]
    },
    {
      "cell_type": "code",
      "source": [
        "print(type(a))"
      ],
      "metadata": {
        "colab": {
          "base_uri": "https://localhost:8080/"
        },
        "id": "hE4HCjqUV2kb",
        "outputId": "7a5841e6-f3fe-4d5b-b0aa-7d5f63558017"
      },
      "execution_count": 2,
      "outputs": [
        {
          "output_type": "stream",
          "name": "stdout",
          "text": [
            "<class 'int'>\n"
          ]
        }
      ]
    },
    {
      "cell_type": "markdown",
      "source": [
        "print(type(a)) : 변수 a의 type 출력\n",
        "\n"
      ],
      "metadata": {
        "id": "ENdttGnAWWS4"
      }
    },
    {
      "cell_type": "code",
      "source": [
        "b=1.6 ; print(type(b))"
      ],
      "metadata": {
        "colab": {
          "base_uri": "https://localhost:8080/"
        },
        "id": "qL8-QLy2WcL0",
        "outputId": "9e3bdb14-f167-49f5-c2b4-b37e54cb0cea"
      },
      "execution_count": 3,
      "outputs": [
        {
          "output_type": "stream",
          "name": "stdout",
          "text": [
            "<class 'float'>\n"
          ]
        }
      ]
    },
    {
      "cell_type": "code",
      "source": [
        "c='123456'; print(type(c)); print(c[4])"
      ],
      "metadata": {
        "colab": {
          "base_uri": "https://localhost:8080/"
        },
        "id": "zadcax_tWPcE",
        "outputId": "1ada2ed5-faae-44e7-844e-3e35a2d3f8a2"
      },
      "execution_count": 4,
      "outputs": [
        {
          "output_type": "stream",
          "name": "stdout",
          "text": [
            "<class 'str'>\n",
            "5\n"
          ]
        }
      ]
    },
    {
      "cell_type": "markdown",
      "source": [
        "`a='123 ... s ... n'`일 때\n",
        "\n",
        "`print(a[s]): indexing`\n",
        "\n",
        "처음(0)에서 끝(n-1)자리 중 s번째 자리의 값을 출력함"
      ],
      "metadata": {
        "id": "keK1xDc7XerS"
      }
    },
    {
      "cell_type": "code",
      "source": [
        "a=[1,2,3,4]; print(type(a)); print(a[3])"
      ],
      "metadata": {
        "colab": {
          "base_uri": "https://localhost:8080/"
        },
        "id": "B6iJgqKeXPPo",
        "outputId": "2f33e59a-4c10-44ec-b271-fd5b336f604c"
      },
      "execution_count": 5,
      "outputs": [
        {
          "output_type": "stream",
          "name": "stdout",
          "text": [
            "<class 'list'>\n",
            "4\n"
          ]
        }
      ]
    },
    {
      "cell_type": "code",
      "source": [
        "d=[1,'a','b',6];print(type(d));print(d[1])"
      ],
      "metadata": {
        "colab": {
          "base_uri": "https://localhost:8080/"
        },
        "id": "WXniJyqTX6yC",
        "outputId": "4a45ccc1-3e62-4b73-a98e-76c3a1be6ae9"
      },
      "execution_count": 6,
      "outputs": [
        {
          "output_type": "stream",
          "name": "stdout",
          "text": [
            "<class 'list'>\n",
            "a\n"
          ]
        }
      ]
    },
    {
      "cell_type": "code",
      "source": [
        "d[1:3]"
      ],
      "metadata": {
        "colab": {
          "base_uri": "https://localhost:8080/"
        },
        "id": "uZ2YQxlnYcKG",
        "outputId": "e41978d4-f66b-4696-d51a-6cc68aeb4934"
      },
      "execution_count": 7,
      "outputs": [
        {
          "output_type": "execute_result",
          "data": {
            "text/plain": [
              "['a', 'b']"
            ]
          },
          "metadata": {},
          "execution_count": 7
        }
      ]
    },
    {
      "cell_type": "code",
      "source": [
        "d[:-1]"
      ],
      "metadata": {
        "colab": {
          "base_uri": "https://localhost:8080/"
        },
        "id": "_P1b6Va7ZppV",
        "outputId": "b72ff9cd-54c0-4632-b883-84b5115ada59"
      },
      "execution_count": 8,
      "outputs": [
        {
          "output_type": "execute_result",
          "data": {
            "text/plain": [
              "[1, 'a', 'b']"
            ]
          },
          "metadata": {},
          "execution_count": 8
        }
      ]
    },
    {
      "cell_type": "markdown",
      "source": [
        "`d=[1,2,3, ... ,n]`일 때\n",
        "\n",
        "`d[1:3]`\n",
        "\n",
        "두 번째(1) 자리에서 세 번째(3-1) 자리까지의 값을 리스트로 출력\n",
        "\n",
        "`d[:]`\n",
        "\n",
        "처음(0)서 끝 자리(n)까지의 값을 리스트로 출력\n",
        "\n",
        "`d[:-1]`\n",
        "\n",
        "처음(0)에서 끝 전 자리(n-1)까지의 값을 리스트로 출력\n",
        "\n",
        "`[:]`의 기본값: 처음(0) - 끝(n)\n"
      ],
      "metadata": {
        "id": "pKB50zEnZNs_"
      }
    },
    {
      "cell_type": "code",
      "source": [
        "a[1:-1]"
      ],
      "metadata": {
        "colab": {
          "base_uri": "https://localhost:8080/"
        },
        "id": "YMQnXHjcZMiD",
        "outputId": "1b316662-435d-4004-b723-c38b842967a0"
      },
      "execution_count": 9,
      "outputs": [
        {
          "output_type": "execute_result",
          "data": {
            "text/plain": [
              "[2, 3]"
            ]
          },
          "metadata": {},
          "execution_count": 9
        }
      ]
    },
    {
      "cell_type": "code",
      "source": [
        "a[1]=0"
      ],
      "metadata": {
        "id": "JLcFGmTbbRl1"
      },
      "execution_count": 10,
      "outputs": []
    },
    {
      "cell_type": "code",
      "source": [
        "print(a)"
      ],
      "metadata": {
        "colab": {
          "base_uri": "https://localhost:8080/"
        },
        "id": "BD5Sj9z8cM4U",
        "outputId": "26437dca-1098-4000-97a5-ee119dbbc24c"
      },
      "execution_count": 11,
      "outputs": [
        {
          "output_type": "stream",
          "name": "stdout",
          "text": [
            "[1, 0, 3, 4]\n"
          ]
        }
      ]
    },
    {
      "cell_type": "code",
      "source": [
        "a=(1,2,3)"
      ],
      "metadata": {
        "id": "G45MsEjScPmA"
      },
      "execution_count": 12,
      "outputs": []
    },
    {
      "cell_type": "code",
      "source": [
        "a[1]=0"
      ],
      "metadata": {
        "colab": {
          "base_uri": "https://localhost:8080/",
          "height": 174
        },
        "id": "UqD9ne82dBDJ",
        "outputId": "94cb57cf-af5b-4c1b-bb8b-30b7bd0681c9"
      },
      "execution_count": 13,
      "outputs": [
        {
          "output_type": "error",
          "ename": "TypeError",
          "evalue": "ignored",
          "traceback": [
            "\u001b[0;31m---------------------------------------------------------------------------\u001b[0m",
            "\u001b[0;31mTypeError\u001b[0m                                 Traceback (most recent call last)",
            "\u001b[0;32m<ipython-input-13-2226a346ff5c>\u001b[0m in \u001b[0;36m<module>\u001b[0;34m()\u001b[0m\n\u001b[0;32m----> 1\u001b[0;31m \u001b[0ma\u001b[0m\u001b[0;34m[\u001b[0m\u001b[0;36m1\u001b[0m\u001b[0;34m]\u001b[0m\u001b[0;34m=\u001b[0m\u001b[0;36m0\u001b[0m\u001b[0;34m\u001b[0m\u001b[0;34m\u001b[0m\u001b[0m\n\u001b[0m",
            "\u001b[0;31mTypeError\u001b[0m: 'tuple' object does not support item assignment"
          ]
        }
      ]
    },
    {
      "cell_type": "markdown",
      "source": [
        "list와 비슷한 tuple: `a=(1.2.3)`\n",
        "\n",
        "차이점: tuple은 내부의 변수를 바꿀 수 없음, 내부의 변수를 더한 값을 출력할 수는 있음"
      ],
      "metadata": {
        "id": "a5JgQ5-edFPe"
      }
    },
    {
      "cell_type": "code",
      "source": [
        "print(a[0]+a[2])"
      ],
      "metadata": {
        "colab": {
          "base_uri": "https://localhost:8080/"
        },
        "id": "jHdLSBVYdC9y",
        "outputId": "d8729292-870b-4d0b-dc52-db5af16a660d"
      },
      "execution_count": 14,
      "outputs": [
        {
          "output_type": "stream",
          "name": "stdout",
          "text": [
            "4\n"
          ]
        }
      ]
    },
    {
      "cell_type": "code",
      "source": [
        "a =\t{\"a\": \"banana\", \"b\": \"mandarine\", \"c\": 2022}\n",
        "print(type(a))\n",
        "print(a[\"a\"])"
      ],
      "metadata": {
        "colab": {
          "base_uri": "https://localhost:8080/"
        },
        "id": "E1pER1lGdnG1",
        "outputId": "e1d8aaf8-4eca-480c-803d-2de96f40f76e"
      },
      "execution_count": 15,
      "outputs": [
        {
          "output_type": "stream",
          "name": "stdout",
          "text": [
            "<class 'dict'>\n",
            "banana\n"
          ]
        }
      ]
    },
    {
      "cell_type": "markdown",
      "source": [
        "Indexing에 있어서 string과 list는 매우 유사함\n"
      ],
      "metadata": {
        "id": "HE10JLdw0BQX"
      }
    },
    {
      "cell_type": "code",
      "source": [
        "s = 'abcdef'\n",
        "print(s[0], s[5], s[-1], s[-6])\n",
        "print(s[1:3], s[1:], s[:3], s[:])"
      ],
      "metadata": {
        "id": "TJTB40Lpd0Q1",
        "outputId": "6e75a5c7-227c-40dd-c433-760e62cddcc6",
        "colab": {
          "base_uri": "https://localhost:8080/"
        }
      },
      "execution_count": 16,
      "outputs": [
        {
          "output_type": "stream",
          "name": "stdout",
          "text": [
            "a f f a\n",
            "bc bcdef abc abcdef\n"
          ]
        }
      ]
    },
    {
      "cell_type": "code",
      "source": [
        "n = [100, 200, 300]\n",
        "print(n[0], n[2], n[-1], n[-3])\n",
        "print(n[1:2], n[1:], n[:2], n[:])"
      ],
      "metadata": {
        "id": "beXmqQ3U89Es",
        "outputId": "0848d954-3ab6-4877-cb54-85f4c16fac10",
        "colab": {
          "base_uri": "https://localhost:8080/"
        }
      },
      "execution_count": 17,
      "outputs": [
        {
          "output_type": "stream",
          "name": "stdout",
          "text": [
            "100 300 300 100\n",
            "[200] [200, 300] [100, 200] [100, 200, 300]\n"
          ]
        }
      ]
    },
    {
      "cell_type": "code",
      "source": [
        "len(s)"
      ],
      "metadata": {
        "id": "wlHSFOoX9GQk",
        "outputId": "42bf9b80-b50c-4ec1-ca03-16249566b867",
        "colab": {
          "base_uri": "https://localhost:8080/"
        }
      },
      "execution_count": 18,
      "outputs": [
        {
          "output_type": "execute_result",
          "data": {
            "text/plain": [
              "6"
            ]
          },
          "metadata": {},
          "execution_count": 18
        }
      ]
    },
    {
      "cell_type": "markdown",
      "source": [
        "`len(s)`\n",
        "\n",
        "s의 길이 출력"
      ],
      "metadata": {
        "id": "WkAFgOK_9-II"
      }
    },
    {
      "cell_type": "code",
      "source": [
        "s[1]+s[3]+s[4:]*10"
      ],
      "metadata": {
        "id": "nNeLTcOH9X0Q",
        "outputId": "01626036-2247-41bf-ed60-176245ef8bfc",
        "colab": {
          "base_uri": "https://localhost:8080/",
          "height": 35
        }
      },
      "execution_count": 19,
      "outputs": [
        {
          "output_type": "execute_result",
          "data": {
            "text/plain": [
              "'bdefefefefefefefefefef'"
            ],
            "application/vnd.google.colaboratory.intrinsic+json": {
              "type": "string"
            }
          },
          "metadata": {},
          "execution_count": 19
        }
      ]
    },
    {
      "cell_type": "markdown",
      "source": [
        "s의 두 번째 자리 - 'b', 네 번째 자리 - 'd', 다섯 번째 자리에서 끝까지 - 'ef'*10 -> 'ef'를 10번 나열"
      ],
      "metadata": {
        "id": "IIeQJMHX-H72"
      }
    },
    {
      "cell_type": "code",
      "source": [
        " s.upper()"
      ],
      "metadata": {
        "id": "yzzhrnsp9Zm3",
        "outputId": "32100a87-af34-4522-a223-375953380b60",
        "colab": {
          "base_uri": "https://localhost:8080/",
          "height": 35
        }
      },
      "execution_count": 20,
      "outputs": [
        {
          "output_type": "execute_result",
          "data": {
            "text/plain": [
              "'ABCDEF'"
            ],
            "application/vnd.google.colaboratory.intrinsic+json": {
              "type": "string"
            }
          },
          "metadata": {},
          "execution_count": 20
        }
      ]
    },
    {
      "cell_type": "markdown",
      "source": [
        "`s.upper()`\n",
        "\n",
        "s의 변수를 대문자로 변환하여 출력"
      ],
      "metadata": {
        "id": "D-ZJqV64-vCX"
      }
    },
    {
      "cell_type": "code",
      "source": [
        "s = ' this is a house built this year.\\n' \t\n",
        "s"
      ],
      "metadata": {
        "id": "4PhZqoY0-uRD",
        "outputId": "a9cf3862-7479-4b9e-9ac1-0c6d0cdf93fb",
        "colab": {
          "base_uri": "https://localhost:8080/",
          "height": 35
        }
      },
      "execution_count": 21,
      "outputs": [
        {
          "output_type": "execute_result",
          "data": {
            "text/plain": [
              "' this is a house built this year.\\n'"
            ],
            "application/vnd.google.colaboratory.intrinsic+json": {
              "type": "string"
            }
          },
          "metadata": {},
          "execution_count": 21
        }
      ]
    },
    {
      "cell_type": "markdown",
      "source": [
        "마지막 줄에서 s = print(s)"
      ],
      "metadata": {
        "id": "_C19LX5B_VvW"
      }
    },
    {
      "cell_type": "code",
      "source": [
        "result = s.find('house')\n",
        "result"
      ],
      "metadata": {
        "id": "PQnncmiY_QCZ",
        "outputId": "21d75f5b-57cc-4535-9fcd-05b9ed4c3bd2",
        "colab": {
          "base_uri": "https://localhost:8080/"
        }
      },
      "execution_count": 22,
      "outputs": [
        {
          "output_type": "execute_result",
          "data": {
            "text/plain": [
              "11"
            ]
          },
          "metadata": {},
          "execution_count": 22
        }
      ]
    },
    {
      "cell_type": "markdown",
      "source": [
        "`result = s.find('house')`\n",
        "\n",
        "'house'에서 첫 글자 'h'가 나오는 순서 출력"
      ],
      "metadata": {
        "id": "XVlkFV6G_kBA"
      }
    },
    {
      "cell_type": "code",
      "source": [
        "s = s.strip()\n",
        "s"
      ],
      "metadata": {
        "id": "XUvRSpg7_cIa",
        "outputId": "05acc453-5b64-47bf-88a7-38304427b717",
        "colab": {
          "base_uri": "https://localhost:8080/",
          "height": 35
        }
      },
      "execution_count": 23,
      "outputs": [
        {
          "output_type": "execute_result",
          "data": {
            "text/plain": [
              "'this is a house built this year.'"
            ],
            "application/vnd.google.colaboratory.intrinsic+json": {
              "type": "string"
            }
          },
          "metadata": {},
          "execution_count": 23
        }
      ]
    },
    {
      "cell_type": "markdown",
      "source": [
        "`s.strip()`\n",
        "\n",
        "빈 칸, 줄바꿈 표시 등의 whitespace가 있다면 삭제"
      ],
      "metadata": {
        "id": "CGWKv5IsAALj"
      }
    },
    {
      "cell_type": "code",
      "source": [
        "tokens = s.split(' ')\n",
        "tokens"
      ],
      "metadata": {
        "id": "QDQGc9yW__Sk",
        "outputId": "b6a00370-770e-466d-b1cc-f3359800c4ee",
        "colab": {
          "base_uri": "https://localhost:8080/"
        }
      },
      "execution_count": 24,
      "outputs": [
        {
          "output_type": "execute_result",
          "data": {
            "text/plain": [
              "['this', 'is', 'a', 'house', 'built', 'this', 'year.']"
            ]
          },
          "metadata": {},
          "execution_count": 24
        }
      ]
    },
    {
      "cell_type": "markdown",
      "source": [
        "`s.split(' ')`\n",
        "\n",
        "빈 칸이 있으면 이를 중심으로 쪼개 리스트를 만듦"
      ],
      "metadata": {
        "id": "SbLe2rMgAgKz"
      }
    },
    {
      "cell_type": "code",
      "source": [
        "s = ' '.join(tokens)\n",
        "s"
      ],
      "metadata": {
        "id": "Zr8IdrR3Ae2X",
        "outputId": "c06e2fdd-8d0d-450b-f05d-8c83e5839838",
        "colab": {
          "base_uri": "https://localhost:8080/",
          "height": 35
        }
      },
      "execution_count": 25,
      "outputs": [
        {
          "output_type": "execute_result",
          "data": {
            "text/plain": [
              "'this is a house built this year.'"
            ],
            "application/vnd.google.colaboratory.intrinsic+json": {
              "type": "string"
            }
          },
          "metadata": {},
          "execution_count": 25
        }
      ]
    },
    {
      "cell_type": "markdown",
      "source": [
        "`' '.join(tokens)`\n",
        "\n",
        "위와 같이 만들어 놓은 리스트를 원래의 문장으로 만듦"
      ],
      "metadata": {
        "id": "J3O1VGhpA6T7"
      }
    },
    {
      "cell_type": "code",
      "source": [
        "s = s.replace('this', 'that')\n",
        "s"
      ],
      "metadata": {
        "id": "VDs4CIE0A0qD",
        "outputId": "0309164f-160e-4f3b-e87d-8ac38977ad85",
        "colab": {
          "base_uri": "https://localhost:8080/",
          "height": 35
        }
      },
      "execution_count": 26,
      "outputs": [
        {
          "output_type": "execute_result",
          "data": {
            "text/plain": [
              "'that is a house built that year.'"
            ],
            "application/vnd.google.colaboratory.intrinsic+json": {
              "type": "string"
            }
          },
          "metadata": {},
          "execution_count": 26
        }
      ]
    },
    {
      "cell_type": "markdown",
      "source": [
        "`s.replace('this', 'that')`\n",
        "\n",
        "'this'를 'that'으로 치환"
      ],
      "metadata": {
        "id": "l-LXdve8BSwh"
      }
    },
    {
      "cell_type": "markdown",
      "source": [
        "#함수(function) 정의\n",
        "```\n",
        "# def 함수이름(입력변수1, 입력변수2):\n",
        "```return 출력변수명\n",
        "\n"
      ],
      "metadata": {
        "id": "LbxhZSrEBs3Z"
      }
    },
    {
      "cell_type": "code",
      "source": [
        "def add(a,b):\n",
        "  return a+b\n",
        "\n",
        "def subtract(a,b):\n",
        "  return a-b\n",
        "\n",
        "def multiply(a,b):\n",
        "  return a*b\n",
        "\n",
        "def divide(a,b):\n",
        "  return a/b"
      ],
      "metadata": {
        "id": "pvZAUZZqBPIl"
      },
      "execution_count": 27,
      "outputs": []
    },
    {
      "cell_type": "code",
      "source": [
        "c = add(1,2); print(c)\n",
        "c = subtract(1,2); print(c)\n",
        "c = multiply(1,2); print(c)\n",
        "c = divide(1,2); print(c)"
      ],
      "metadata": {
        "id": "EGqU-342C82E",
        "outputId": "2793e684-b13b-4da6-d1e1-afd06e9c029e",
        "colab": {
          "base_uri": "https://localhost:8080/"
        }
      },
      "execution_count": 28,
      "outputs": [
        {
          "output_type": "stream",
          "name": "stdout",
          "text": [
            "3\n",
            "-1\n",
            "2\n",
            "0.5\n"
          ]
        }
      ]
    },
    {
      "cell_type": "markdown",
      "source": [
        "#문법(syntax)\n",
        "1. 반복문: for, while\n",
        "\n",
        "2. 조건문: if, switch\n"
      ],
      "metadata": {
        "id": "PyS6jQImDNY4"
      }
    },
    {
      "cell_type": "code",
      "source": [
        "a = [1, 2, 3, 4]\n",
        "for i in a:\n",
        "    print(i)"
      ],
      "metadata": {
        "id": "S9WduEv3C9GR",
        "outputId": "13c03435-0aed-45ea-aa5b-4665050d5169",
        "colab": {
          "base_uri": "https://localhost:8080/"
        }
      },
      "execution_count": 29,
      "outputs": [
        {
          "output_type": "stream",
          "name": "stdout",
          "text": [
            "1\n",
            "2\n",
            "3\n",
            "4\n"
          ]
        }
      ]
    },
    {
      "cell_type": "markdown",
      "source": [
        "반복문 for\n",
        "```\n",
        "# for i in a:\n",
        "  print (i)\n",
        "```\n",
        "인덴트한 항목: for문 안에 있는 것으로 해석\n",
        "\n",
        "a에 있는 변수들을 i로 처음부터 하나씩 받아서 돌림 -> for-loop"
      ],
      "metadata": {
        "id": "r75YR3EsEOPl"
      }
    },
    {
      "cell_type": "code",
      "source": [
        "a = [1, 2, 3, 4]\n",
        "for i in range(len(a)):\n",
        "    print(a[i])"
      ],
      "metadata": {
        "id": "vKmTmJOXDnzi",
        "outputId": "95e839f5-d11b-4889-afc4-129f5c1cf625",
        "colab": {
          "base_uri": "https://localhost:8080/"
        }
      },
      "execution_count": 30,
      "outputs": [
        {
          "output_type": "stream",
          "name": "stdout",
          "text": [
            "1\n",
            "2\n",
            "3\n",
            "4\n"
          ]
        }
      ]
    },
    {
      "cell_type": "code",
      "source": [
        "for i in range(4):\n",
        "  print(i)"
      ],
      "metadata": {
        "id": "ROtYTvXSGKo2",
        "outputId": "a35aa92b-c16b-4f91-bdec-d4910b419855",
        "colab": {
          "base_uri": "https://localhost:8080/"
        }
      },
      "execution_count": 31,
      "outputs": [
        {
          "output_type": "stream",
          "name": "stdout",
          "text": [
            "0\n",
            "1\n",
            "2\n",
            "3\n"
          ]
        }
      ]
    },
    {
      "cell_type": "markdown",
      "source": [
        "\n",
        "\n",
        "```\n",
        "# for i in range(len(a)):\n",
        "  print(a[i])\n",
        "```\n",
        "\n",
        "len(a)길이의 리스트 생성, 인덱스를 이용하는 방식\n",
        "\n",
        "\n",
        "\n",
        "```\n",
        "# for i in range(4):\n",
        "  print(i)\n",
        "```\n",
        "0부터 시작하는 변수 네 개의 리스트 [0, 1, 2, 3] 생성"
      ],
      "metadata": {
        "id": "6Odoe0WrFkNl"
      }
    },
    {
      "cell_type": "code",
      "source": [
        "a = ['red', 'green', 'blue', 'purple']\n",
        "for i in a:\n",
        "    print(i)"
      ],
      "metadata": {
        "id": "aIjZ5lXSDpNj",
        "outputId": "21bf9ecd-72f1-4a31-be8c-afe1de834679",
        "colab": {
          "base_uri": "https://localhost:8080/"
        }
      },
      "execution_count": 32,
      "outputs": [
        {
          "output_type": "stream",
          "name": "stdout",
          "text": [
            "red\n",
            "green\n",
            "blue\n",
            "purple\n"
          ]
        }
      ]
    },
    {
      "cell_type": "code",
      "source": [
        "a = ['red', 'green', 'blue', 'purple']\n",
        "for i in range(len(a)):\n",
        "    print(a[i])"
      ],
      "metadata": {
        "id": "fGFy3g95Dqis",
        "outputId": "93d2dce3-e60c-47f9-f133-45b4e765d264",
        "colab": {
          "base_uri": "https://localhost:8080/"
        }
      },
      "execution_count": 33,
      "outputs": [
        {
          "output_type": "stream",
          "name": "stdout",
          "text": [
            "red\n",
            "green\n",
            "blue\n",
            "purple\n"
          ]
        }
      ]
    },
    {
      "cell_type": "markdown",
      "source": [
        "string이 들어간 리스트도 마찬가지로 실행됨"
      ],
      "metadata": {
        "id": "6uVnAx4MG0j4"
      }
    },
    {
      "cell_type": "code",
      "source": [
        "a = 0\n",
        "if a == 0:\n",
        "    print(a)\n",
        "else:\n",
        "    print(a+1)"
      ],
      "metadata": {
        "id": "My3h3mQwDsB_",
        "outputId": "182a8b62-db25-487d-ccc4-2e91962695a0",
        "colab": {
          "base_uri": "https://localhost:8080/"
        }
      },
      "execution_count": 34,
      "outputs": [
        {
          "output_type": "stream",
          "name": "stdout",
          "text": [
            "0\n"
          ]
        }
      ]
    },
    {
      "cell_type": "code",
      "source": [
        "a = 0\n",
        "if a != 0:\n",
        "    print(a)\n",
        "else:\n",
        "    print(a+1)"
      ],
      "metadata": {
        "id": "TM10-Ik3H5Gq",
        "outputId": "3865ee2b-d97c-468e-b46f-1f80695ebee0",
        "colab": {
          "base_uri": "https://localhost:8080/"
        }
      },
      "execution_count": 35,
      "outputs": [
        {
          "output_type": "stream",
          "name": "stdout",
          "text": [
            "1\n"
          ]
        }
      ]
    },
    {
      "cell_type": "markdown",
      "source": [
        "조건문 if\n",
        "\n",
        "\n",
        "```\n",
        "# a = 0\n",
        "  if a == 0:\n",
        "    print(a)\n",
        "```\n",
        "a가 0이라면 a를 출력 => 0이 실행됨\n",
        "\n",
        "\n",
        "\n",
        "```\n",
        "# a = 0\n",
        "  if a != 0:\n",
        "    print(a)\n",
        "  else:\n",
        "      print(a+1)\n",
        "```\n",
        "a가 0이 아니라면 a를 출력, 그렇지 않은 경우 a+1의 값 출력 => a가 0이므로 else항목 실행됨\n",
        "\n"
      ],
      "metadata": {
        "id": "MQlmsZegHKvm"
      }
    },
    {
      "cell_type": "code",
      "source": [
        "for i in range(1, 3):\n",
        "    for j in range(3, 5):\n",
        "        print(i*j)"
      ],
      "metadata": {
        "id": "7LEtu17QHIjV",
        "outputId": "a3a77b19-38b2-4235-a8a7-c656aa0eb360",
        "colab": {
          "base_uri": "https://localhost:8080/"
        }
      },
      "execution_count": 36,
      "outputs": [
        {
          "output_type": "stream",
          "name": "stdout",
          "text": [
            "3\n",
            "4\n",
            "6\n",
            "8\n"
          ]
        }
      ]
    },
    {
      "cell_type": "markdown",
      "source": [
        "for문을 중첩하여 사용할 수 있음\n",
        "\n",
        "range(1, 3) => [1, 2] 생성\n",
        "\n",
        "range(3, 5) => [3. 4] 생성\n",
        "\n",
        "이 값을 loop, 각각의 변수 곱함\n",
        "\n"
      ],
      "metadata": {
        "id": "LU2NXld5IUCq"
      }
    },
    {
      "cell_type": "code",
      "source": [
        "for i in range(1, 3):\n",
        "    for j in range(3, 5):\n",
        "        if j >=4:\n",
        "            print(i*j)"
      ],
      "metadata": {
        "id": "-ZGxpFu0ITQ6",
        "outputId": "9a8e82b8-8f56-44cf-aa6b-0173d165d6cf",
        "colab": {
          "base_uri": "https://localhost:8080/"
        }
      },
      "execution_count": 37,
      "outputs": [
        {
          "output_type": "stream",
          "name": "stdout",
          "text": [
            "4\n",
            "8\n"
          ]
        }
      ]
    },
    {
      "cell_type": "markdown",
      "source": [
        "\n",
        "```\n",
        "# if j>=4:\n",
        "  print(i*j)\n",
        "```\n",
        "j가 4보다 큰 경우에만 print\n"
      ],
      "metadata": {
        "id": "iVDY9jJ8I7xG"
      }
    },
    {
      "cell_type": "code",
      "source": [
        "a = [1, 2, 3, 4]\n",
        "b = [i for i in a if i >=2]\n",
        "b"
      ],
      "metadata": {
        "id": "xJ9vYTZvI3Ux",
        "outputId": "fce04f73-5300-45ea-d589-a2da18f2cefb",
        "colab": {
          "base_uri": "https://localhost:8080/"
        }
      },
      "execution_count": 38,
      "outputs": [
        {
          "output_type": "execute_result",
          "data": {
            "text/plain": [
              "[2, 3, 4]"
            ]
          },
          "metadata": {},
          "execution_count": 38
        }
      ]
    },
    {
      "cell_type": "markdown",
      "source": [
        "리스트 안에 for-loop 삽입\n",
        "\n",
        "조건(i>=2)을 만족하는 변수의 리스트 생성\n"
      ],
      "metadata": {
        "id": "hr8PVIV_J9GC"
      }
    },
    {
      "cell_type": "code",
      "source": [
        "a = ['red', 'green', 'blue', 'purple']\n",
        "b = [i for i in a if len(i) >=4]\n",
        "b"
      ],
      "metadata": {
        "id": "N2sgI6jHJhEz",
        "outputId": "41373229-1506-423c-f276-538ee0421a52",
        "colab": {
          "base_uri": "https://localhost:8080/"
        }
      },
      "execution_count": 39,
      "outputs": [
        {
          "output_type": "execute_result",
          "data": {
            "text/plain": [
              "['green', 'blue', 'purple']"
            ]
          },
          "metadata": {},
          "execution_count": 39
        }
      ]
    },
    {
      "cell_type": "markdown",
      "source": [
        "위의 두 경우: List Comprehension\n",
        "\n",
        "조건 string의 길이>=4를 만족하는 변수의 리스트 생성\n",
        "\n"
      ],
      "metadata": {
        "id": "hlpJ-UqYKSqU"
      }
    },
    {
      "cell_type": "code",
      "source": [
        "a = ['red', 'green', 'blue', 'purple']\n",
        "b = [1, 2, 3, 4]\n",
        "c = {a[i]:b[i] for i in range(4)}\n",
        "c"
      ],
      "metadata": {
        "id": "wI93Sr_3Ji0j",
        "outputId": "b9c5e961-1bec-40dd-d554-d7e90bbb5b0c",
        "colab": {
          "base_uri": "https://localhost:8080/"
        }
      },
      "execution_count": 40,
      "outputs": [
        {
          "output_type": "execute_result",
          "data": {
            "text/plain": [
              "{'blue': 3, 'green': 2, 'purple': 4, 'red': 1}"
            ]
          },
          "metadata": {},
          "execution_count": 40
        }
      ]
    },
    {
      "cell_type": "markdown",
      "source": [
        "Dict Comprehension\n",
        "\n",
        "[0, 1, 2, 3]을 i로 받음\n",
        "\n",
        " {a[0]:b[0], a[1]:b[1], a[2]:b[2], a[3]:b[3]}의 식으로 실행 => dict로 만들어짐\n"
      ],
      "metadata": {
        "id": "kr5oqaOWKm5K"
      }
    },
    {
      "cell_type": "markdown",
      "source": [
        "# 파이썬 import, numpy, matplotlib\n",
        "함수 패키지 - install, import, built-in\n",
        "\n",
        "install 후 import하여 함수 사용 가능\n",
        "\n",
        "유명한 함수 패키지의 경우 이미 install되어 있음\n",
        "\n",
        "기본적인 함수 패키지는 built-in되어 있음"
      ],
      "metadata": {
        "id": "0zPLOBbhLaqR"
      }
    },
    {
      "cell_type": "markdown",
      "source": [
        "numpy: 난수 생성, 행렬 생성, 숫자로 간단한 통계 처리 등등 수치를 다루는 패키지"
      ],
      "metadata": {
        "id": "-6ciAri5MbmG"
      }
    },
    {
      "cell_type": "code",
      "source": [
        "import numpy as np\n",
        "n = np.random.randn(100)"
      ],
      "metadata": {
        "id": "kgWVxcqYLOHM"
      },
      "execution_count": 41,
      "outputs": []
    },
    {
      "cell_type": "markdown",
      "source": [
        "\n",
        "\n",
        "```\n",
        "# numpy.random.randn(x)\n",
        "```\n",
        "x개의 난수(random number) 생성, 평균이 0이고 표준편차가 1인 정규분포를 따름\n"
      ],
      "metadata": {
        "id": "7kCsfbWOMrOF"
      }
    },
    {
      "cell_type": "code",
      "source": [
        "import matplotlib\n",
        "matplotlib.pyplot.hist(n)"
      ],
      "metadata": {
        "id": "VAElLGpZMVhv",
        "outputId": "d1081cf5-e825-4c14-e4e7-cfd4437e3c7d",
        "colab": {
          "base_uri": "https://localhost:8080/",
          "height": 357
        }
      },
      "execution_count": 42,
      "outputs": [
        {
          "output_type": "execute_result",
          "data": {
            "text/plain": [
              "(array([ 4.,  6.,  8., 21., 21., 12.,  9.,  9.,  6.,  4.]),\n",
              " array([-1.87134918, -1.4339955 , -0.99664182, -0.55928814, -0.12193447,\n",
              "         0.31541921,  0.75277289,  1.19012657,  1.62748025,  2.06483392,\n",
              "         2.5021876 ]),\n",
              " <a list of 10 Patch objects>)"
            ]
          },
          "metadata": {},
          "execution_count": 42
        },
        {
          "output_type": "display_data",
          "data": {
            "text/plain": [
              "<Figure size 432x288 with 1 Axes>"
            ],
            "image/png": "[encoded data removed]"
          },
          "metadata": {
            "needs_background": "light"
          }
        }
      ]
    },
    {
      "cell_type": "markdown",
      "source": [
        "matplotlib: plotting, visualizing해주는 패키지\n",
        "\n",
        "\n",
        "```\n",
        "# matplotlib.pyplot.hist(n)\n",
        "```\n",
        "\n",
        "n에 대하여 히스토그램 생성, x축 - 범위, y축 - 갯수(frequency)\n"
      ],
      "metadata": {
        "id": "Mu37zHfXNW3X"
      }
    },
    {
      "cell_type": "code",
      "source": [
        "import matplotlib.pyplot as plt\n",
        "plt.hist(n)"
      ],
      "metadata": {
        "id": "OAL9T4b0NV6C",
        "outputId": "5f1b6a87-7a56-4cc5-835a-4f9bfb115020",
        "colab": {
          "base_uri": "https://localhost:8080/",
          "height": 357
        }
      },
      "execution_count": 43,
      "outputs": [
        {
          "output_type": "execute_result",
          "data": {
            "text/plain": [
              "(array([ 4.,  6.,  8., 21., 21., 12.,  9.,  9.,  6.,  4.]),\n",
              " array([-1.87134918, -1.4339955 , -0.99664182, -0.55928814, -0.12193447,\n",
              "         0.31541921,  0.75277289,  1.19012657,  1.62748025,  2.06483392,\n",
              "         2.5021876 ]),\n",
              " <a list of 10 Patch objects>)"
            ]
          },
          "metadata": {},
          "execution_count": 43
        },
        {
          "output_type": "display_data",
          "data": {
            "text/plain": [
              "<Figure size 432x288 with 1 Axes>"
            ],
            "image/png": "[encoded data removed]"
          },
          "metadata": {
            "needs_background": "light"
          }
        }
      ]
    },
    {
      "cell_type": "code",
      "source": [
        "from matplotlib import pyplot\n",
        "pyplot.hist(n)"
      ],
      "metadata": {
        "id": "Wpxpv8S6O34W",
        "outputId": "3a697a96-880c-4a93-926d-ec7ad8294bc6",
        "colab": {
          "base_uri": "https://localhost:8080/",
          "height": 357
        }
      },
      "execution_count": 44,
      "outputs": [
        {
          "output_type": "execute_result",
          "data": {
            "text/plain": [
              "(array([ 4.,  6.,  8., 21., 21., 12.,  9.,  9.,  6.,  4.]),\n",
              " array([-1.87134918, -1.4339955 , -0.99664182, -0.55928814, -0.12193447,\n",
              "         0.31541921,  0.75277289,  1.19012657,  1.62748025,  2.06483392,\n",
              "         2.5021876 ]),\n",
              " <a list of 10 Patch objects>)"
            ]
          },
          "metadata": {},
          "execution_count": 44
        },
        {
          "output_type": "display_data",
          "data": {
            "text/plain": [
              "<Figure size 432x288 with 1 Axes>"
            ],
            "image/png": "[encoded data removed]"
          },
          "metadata": {
            "needs_background": "light"
          }
        }
      ]
    },
    {
      "cell_type": "markdown",
      "source": [
        "from ~ import ...로 축약 가능"
      ],
      "metadata": {
        "id": "QedrWnWFPLz-"
      }
    },
    {
      "cell_type": "code",
      "source": [
        "import numpy as np"
      ],
      "metadata": {
        "id": "QoEP08WuPKoj"
      },
      "execution_count": 45,
      "outputs": []
    },
    {
      "cell_type": "markdown",
      "source": [
        "matrix -> 직사각형 숫자 배열, n차원으로 생성 가능"
      ],
      "metadata": {
        "id": "NK9B4axsPtIw"
      }
    },
    {
      "cell_type": "code",
      "source": [
        "x = np.array([1,2,3])\n",
        "print(x)\n",
        "print(type(x))\n",
        "print(x.shape)"
      ],
      "metadata": {
        "id": "d1s8ZKobPrXe",
        "outputId": "b7e6c83b-7cac-4d50-e950-8ed352a65a18",
        "colab": {
          "base_uri": "https://localhost:8080/"
        }
      },
      "execution_count": 46,
      "outputs": [
        {
          "output_type": "stream",
          "name": "stdout",
          "text": [
            "[1 2 3]\n",
            "<class 'numpy.ndarray'>\n",
            "(3,)\n"
          ]
        }
      ]
    },
    {
      "cell_type": "markdown",
      "source": [
        "list는 계산 불가능, 계산하기 위해서 array로 바꾸어야 함\n",
        "\n",
        "위의 경우 1d array 생성: [1 2 3]\n",
        "\n",
        "(3,) -> 1d array\n"
      ],
      "metadata": {
        "id": "tyMkXOboQPLD"
      }
    },
    {
      "cell_type": "code",
      "source": [
        "x = np.arange(0,10,2)\n",
        "print(x)\n",
        "print(type(x))\n",
        "print(x.shape)"
      ],
      "metadata": {
        "id": "hOBnBODZP_kq",
        "colab": {
          "base_uri": "https://localhost:8080/"
        },
        "outputId": "9c0d8b83-b36a-4538-b120-9e03ad371b0b"
      },
      "execution_count": 47,
      "outputs": [
        {
          "output_type": "stream",
          "name": "stdout",
          "text": [
            "[0 2 4 6 8]\n",
            "<class 'numpy.ndarray'>\n",
            "(5,)\n"
          ]
        }
      ]
    },
    {
      "cell_type": "markdown",
      "source": [
        "arange(0, 10, 2)\n",
        "\n",
        "마지막 숫자 2: increment(증가), 증가하는 정도\n",
        "\n",
        "0에서 10 이전까지 2만큼 증가하는 array 생성"
      ],
      "metadata": {
        "id": "AEF_EUajQma1"
      }
    },
    {
      "cell_type": "code",
      "source": [
        "x = np.linspace(0,10,6)\n",
        "print(x)\n",
        "print(type(x))\n",
        "print(x.shape)"
      ],
      "metadata": {
        "colab": {
          "base_uri": "https://localhost:8080/"
        },
        "id": "akUcuuHPQkmm",
        "outputId": "94f2fdab-1064-43f2-9878-8b89ed3cf0d1"
      },
      "execution_count": 48,
      "outputs": [
        {
          "output_type": "stream",
          "name": "stdout",
          "text": [
            "[ 0.  2.  4.  6.  8. 10.]\n",
            "<class 'numpy.ndarray'>\n",
            "(6,)\n"
          ]
        }
      ]
    },
    {
      "cell_type": "markdown",
      "source": [
        "linspace(0, 10, 6): linear space를 만듦\n",
        "\n",
        "0부터 10까지 등분하는 6개의 숫자 생성"
      ],
      "metadata": {
        "id": "KGl-ryQFRK87"
      }
    },
    {
      "cell_type": "code",
      "source": [
        "x = np.array([[1,2,3], [4,5,6]])\n",
        "print(x)\n",
        "print(type(x))\n",
        "print(x.shape)"
      ],
      "metadata": {
        "colab": {
          "base_uri": "https://localhost:8080/"
        },
        "id": "gjG91KHbRKLd",
        "outputId": "07b7bf37-52a6-4bb3-a963-4464c52b7759"
      },
      "execution_count": 49,
      "outputs": [
        {
          "output_type": "stream",
          "name": "stdout",
          "text": [
            "[[1 2 3]\n",
            " [4 5 6]]\n",
            "<class 'numpy.ndarray'>\n",
            "(2, 3)\n"
          ]
        }
      ]
    },
    {
      "cell_type": "markdown",
      "source": [
        "2d array 생성"
      ],
      "metadata": {
        "id": "8RKxdLgiR2Wp"
      }
    },
    {
      "cell_type": "code",
      "source": [
        "x = np.array([[[1,2,3], [4,5,6]], [[7,8,9], [10,11,12]]])\n",
        "print(x)\n",
        "print(type(x))\n",
        "print(x.shape)"
      ],
      "metadata": {
        "colab": {
          "base_uri": "https://localhost:8080/"
        },
        "id": "o6M_K4qHRmif",
        "outputId": "b99ed43a-b622-4e4d-c28f-fd8ace8ff8db"
      },
      "execution_count": 50,
      "outputs": [
        {
          "output_type": "stream",
          "name": "stdout",
          "text": [
            "[[[ 1  2  3]\n",
            "  [ 4  5  6]]\n",
            "\n",
            " [[ 7  8  9]\n",
            "  [10 11 12]]]\n",
            "<class 'numpy.ndarray'>\n",
            "(2, 2, 3)\n"
          ]
        }
      ]
    },
    {
      "cell_type": "markdown",
      "source": [
        "3d array 생성\n",
        "\n",
        "[ ] 중괄호의 개수로 몇 차원인지 파악 가능"
      ],
      "metadata": {
        "id": "2Hel2-Y5SIi8"
      }
    },
    {
      "cell_type": "code",
      "source": [
        "x = np.ones([2, 2, 3])\n",
        "print(x)\n",
        "print(type(x))\n",
        "print(x.shape)"
      ],
      "metadata": {
        "colab": {
          "base_uri": "https://localhost:8080/"
        },
        "id": "Lx7t7ciMSGg-",
        "outputId": "2fc163be-1f20-48eb-80cb-f322baece202"
      },
      "execution_count": 51,
      "outputs": [
        {
          "output_type": "stream",
          "name": "stdout",
          "text": [
            "[[[1. 1. 1.]\n",
            "  [1. 1. 1.]]\n",
            "\n",
            " [[1. 1. 1.]\n",
            "  [1. 1. 1.]]]\n",
            "<class 'numpy.ndarray'>\n",
            "(2, 2, 3)\n"
          ]
        }
      ]
    },
    {
      "cell_type": "code",
      "source": [
        "x = np.zeros([2, 2, 3])\n",
        "print(x)\n",
        "print(type(x))\n",
        "print(x.shape)\n",
        "x.reshape(3,2,2)"
      ],
      "metadata": {
        "colab": {
          "base_uri": "https://localhost:8080/"
        },
        "id": "cWQwsYr5SgO7",
        "outputId": "cad46e90-c734-4333-c521-f956da71c602"
      },
      "execution_count": 52,
      "outputs": [
        {
          "output_type": "stream",
          "name": "stdout",
          "text": [
            "[[[0. 0. 0.]\n",
            "  [0. 0. 0.]]\n",
            "\n",
            " [[0. 0. 0.]\n",
            "  [0. 0. 0.]]]\n",
            "<class 'numpy.ndarray'>\n",
            "(2, 2, 3)\n"
          ]
        },
        {
          "output_type": "execute_result",
          "data": {
            "text/plain": [
              "array([[[0., 0.],\n",
              "        [0., 0.]],\n",
              "\n",
              "       [[0., 0.],\n",
              "        [0., 0.]],\n",
              "\n",
              "       [[0., 0.],\n",
              "        [0., 0.]]])"
            ]
          },
          "metadata": {},
          "execution_count": 52
        }
      ]
    },
    {
      "cell_type": "markdown",
      "source": [
        "ones([2, 2, 3])\n",
        "\n",
        "[2, 2, 3]의 1로 채워진 array 생성\n",
        "\n",
        "zeros([2, 2, 3])\n",
        "\n",
        "[2, 2, 3]의 0으로 채워진 array 생성"
      ],
      "metadata": {
        "id": "VjcIdfPFShAZ"
      }
    },
    {
      "cell_type": "code",
      "source": [
        "np.random.normal(0, 1, [2,3,4])"
      ],
      "metadata": {
        "colab": {
          "base_uri": "https://localhost:8080/"
        },
        "id": "LfLJNXSkSqoj",
        "outputId": "a250cd70-e60a-4be1-cab4-af0b6437ef57"
      },
      "execution_count": 53,
      "outputs": [
        {
          "output_type": "execute_result",
          "data": {
            "text/plain": [
              "array([[[ 1.19774897,  0.08169441, -0.09544126, -1.4223342 ],\n",
              "        [-0.46790403,  0.79943135, -0.23642151, -0.37207332],\n",
              "        [ 1.18923913, -0.4011782 ,  1.63706692,  0.17984464]],\n",
              "\n",
              "       [[ 1.00069967,  1.39073395,  0.07166988,  1.32204122],\n",
              "        [ 1.58372466, -0.45333056,  0.28806173, -0.27226012],\n",
              "        [ 1.03298608, -0.9553112 , -0.87595922,  0.9517406 ]]])"
            ]
          },
          "metadata": {},
          "execution_count": 53
        }
      ]
    },
    {
      "cell_type": "markdown",
      "source": [
        "\n",
        "\n",
        "```\n",
        "# np.random.normal(0, 1, [2,3,4])\n",
        "```\n",
        "\n",
        "\n",
        "\n",
        "첫 번째 입력: 평균\n",
        "\n",
        "두 번째 입력: 표준편차\n",
        "\n",
        "세 번째 입력: nd array를 어떤 구조로 만들 것인가"
      ],
      "metadata": {
        "id": "4pzBW8flS_Mv"
      }
    },
    {
      "cell_type": "code",
      "source": [
        "import matplotlib.pyplot as plt"
      ],
      "metadata": {
        "id": "jOzfQ_lSS432"
      },
      "execution_count": 54,
      "outputs": []
    },
    {
      "cell_type": "code",
      "source": [
        "x = np.random.normal(0, 1, 100)\n",
        "print(x)\n",
        "plt.hist(x, bins=10)"
      ],
      "metadata": {
        "colab": {
          "base_uri": "https://localhost:8080/",
          "height": 669
        },
        "id": "d0bOLMdyS6yH",
        "outputId": "97b96839-bb39-438c-ed66-32fe963980f3"
      },
      "execution_count": 55,
      "outputs": [
        {
          "output_type": "stream",
          "name": "stdout",
          "text": [
            "[ 2.42533253 -1.67221885  0.71944072  0.26774594 -1.28973796  0.44531222\n",
            "  0.14661381  0.87385432 -0.56188473  0.19736689  1.22025064  1.15769373\n",
            "  0.53008955  2.37435917 -0.1989678   2.06146328  0.33920563 -1.33058974\n",
            " -0.18495031  0.70248798 -0.26419556 -0.8810478   0.07139718  0.89442143\n",
            "  0.15063089 -0.52633391  0.55069238 -1.11540184  1.26449183  0.85364685\n",
            "  0.83757748 -1.69508757 -0.3663156   0.91066364 -0.22913373 -1.17232902\n",
            "  0.13656522  0.82420069 -0.31309218  0.95294171  0.09553223  1.13986334\n",
            " -0.83237374 -1.20503527  2.08305069 -1.17134195 -0.38760195 -0.59482066\n",
            "  0.74389349  1.72541577 -1.50912635 -2.04051965  1.15008293  2.20175553\n",
            "  0.13447685  0.71018128  0.01814878  0.03909733 -1.98369471 -0.44831038\n",
            " -1.20453285 -1.20722332 -0.83910131 -1.49327742 -0.55949764 -0.39421386\n",
            " -0.37550369  0.03379631  0.37531474  1.39943256 -1.20323764 -0.59615843\n",
            "  0.65098807 -0.22282259 -0.75306065  0.10055803  0.09251562 -0.45273312\n",
            "  0.29453703  1.04370217 -0.33495721  0.49748665 -0.05895087  1.63295359\n",
            "  0.15261729  0.94026054  1.22228198  0.98794159  1.71225482  2.47964386\n",
            "  0.4228958  -1.09127812 -0.72758015 -0.21954235  1.68725694 -0.73344677\n",
            " -1.59015483 -0.13759939 -1.25200318  0.88084409]\n"
          ]
        },
        {
          "output_type": "execute_result",
          "data": {
            "text/plain": [
              "(array([ 5., 11.,  8., 14., 20., 10., 15.,  7.,  4.,  6.]),\n",
              " array([-2.04051965, -1.5885033 , -1.13648695, -0.6844706 , -0.23245425,\n",
              "         0.21956211,  0.67157846,  1.12359481,  1.57561116,  2.02762751,\n",
              "         2.47964386]),\n",
              " <a list of 10 Patch objects>)"
            ]
          },
          "metadata": {},
          "execution_count": 55
        },
        {
          "output_type": "display_data",
          "data": {
            "text/plain": [
              "<Figure size 432x288 with 1 Axes>"
            ],
            "image/png": "[encoded data removed]"
          },
          "metadata": {
            "needs_background": "light"
          }
        }
      ]
    },
    {
      "cell_type": "markdown",
      "source": [
        "1d array의 긴 한 줄 생성\n",
        "\n",
        "이를 히스토그램으로 만듦\n",
        "\n",
        "bins=10 : 10개의 범위로 구분"
      ],
      "metadata": {
        "id": "WDDs4CsZThMz"
      }
    },
    {
      "cell_type": "code",
      "source": [
        "plt.figure()\n",
        "\n",
        "theta1 = np.linspace(0, 2*np.pi, 100)\n",
        "s1 = np.sin(theta1)\n",
        "theta2 = np.linspace(0, 2*np.pi, 100) + np.pi/2\n",
        "s2 = np.sin(theta2)\n",
        "\n",
        "plt.subplot(2, 1, 1) # (rows, columns, panel number)\n",
        "plt.plot(theta1, s1, '.')\n",
        "plt.subplot(2, 1, 2) # (rows, columns, panel number)\n",
        "plt.plot(theta2, s2, '.')"
      ],
      "metadata": {
        "colab": {
          "base_uri": "https://localhost:8080/",
          "height": 283
        },
        "id": "3gG-M75lS8Qp",
        "outputId": "5e38345e-41c1-4a49-afb1-3efc71386d67"
      },
      "execution_count": 56,
      "outputs": [
        {
          "output_type": "execute_result",
          "data": {
            "text/plain": [
              "[<matplotlib.lines.Line2D at 0x7fb6e0798a90>]"
            ]
          },
          "metadata": {},
          "execution_count": 56
        },
        {
          "output_type": "display_data",
          "data": {
            "text/plain": [
              "<Figure size 432x288 with 2 Axes>"
            ],
            "image/png": "[encoded data removed]"
          },
          "metadata": {
            "needs_background": "light"
          }
        }
      ]
    },
    {
      "cell_type": "markdown",
      "source": [
        "plt,figure() => 정교한 figure 생성\n",
        "\n",
        "np.pi => 파이, radian값, 180도\n",
        "\n",
        "2np.pi = 360도, np.pi/2 = 90도\n",
        "\n",
        "np.sin(theta1) -> 0부터 2np.pi(360도)까지 100개 숫자를 넣어 사인 함수를 통과해 출력됨\n",
        "\n"
      ],
      "metadata": {
        "id": "Skjpy6AtUPHt"
      }
    },
    {
      "cell_type": "markdown",
      "source": [
        "plt.subplot(2, 1, 1) => (rows, columns, panel number) 가로 2줄, 세로 1줄, 그 중 첫 번째 그림을 그림\n",
        "\n",
        "plt.plot(theta1, s1, '.') => (x축, y축, 표시), 위에서 만든 100개의 수를 plotting\n",
        "\n",
        "plt.subplot(2, 1, 2) => 두 번째 그림을 그림\n",
        "\n"
      ],
      "metadata": {
        "id": "Vge8t3xKW6jh"
      }
    },
    {
      "cell_type": "code",
      "source": [
        "np.corrcoef(s1,s2)"
      ],
      "metadata": {
        "colab": {
          "base_uri": "https://localhost:8080/"
        },
        "id": "C2DMrEWjUKOH",
        "outputId": "a2917b2e-c480-481f-9936-c1d2710acdb9"
      },
      "execution_count": 57,
      "outputs": [
        {
          "output_type": "execute_result",
          "data": {
            "text/plain": [
              "array([[1.00000000e+00, 2.41915449e-17],\n",
              "       [2.41915449e-17, 1.00000000e+00]])"
            ]
          },
          "metadata": {},
          "execution_count": 57
        }
      ]
    },
    {
      "cell_type": "markdown",
      "source": [
        "비례 관계\n",
        "\n",
        "Correlation coefficient: r로 표현\n",
        "\n",
        "-1<=r<=1, r의 값이 플러스 -> 정비례, 마이너스 -> 반비례, r의 절댓값이 1에 가까워질수록 상관관계 높음\n"
      ],
      "metadata": {
        "id": "8mlBeQqDYPjA"
      }
    },
    {
      "cell_type": "markdown",
      "source": [
        "array([[1.00000000e+00, 2.41915449e-17],\n",
        "       [2.41915449e-17, 1.00000000e+00]])\n",
        "\n",
        "첫번째, 마지막은 무조건 1이 나옴\n",
        "\n",
        "나머지 값을 봄\n",
        "\n",
        "2.419....e-17 => 2.419....값에 10의 -17승을 곱한 값 = 0\n",
        "\n",
        "correlation했을 때 0이 출력됨 => 상관관계 매우 낮음"
      ],
      "metadata": {
        "id": "w5ZqdHfbZWrA"
      }
    }
  ]
}